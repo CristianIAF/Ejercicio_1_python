{
  "nbformat": 4,
  "nbformat_minor": 0,
  "metadata": {
    "colab": {
      "provenance": []
    },
    "kernelspec": {
      "name": "python3",
      "display_name": "Python 3"
    },
    "language_info": {
      "name": "python"
    }
  },
  "cells": [
    {
      "cell_type": "markdown",
      "source": [
        "# Proyectos:\n",
        "\n",
        "\n",
        "10.- Un programa debe ser escrito para leer dos números y luego preguntar a la persona usuaria qué\n",
        "operación desea realizar. El resultado de la operación debe incluir información sobre el número,\n",
        "si es par o impar, positivo o negativo, e entero o decimal.\n",
        "\n",
        "\n"
      ],
      "metadata": {
        "id": "7W7fTaQCd2LF"
      }
    },
    {
      "cell_type": "markdown",
      "source": [
        "## Solicitar los dos números para que el programa los lea:\n"
      ],
      "metadata": {
        "id": "3dfOOEACeSKL"
      }
    },
    {
      "cell_type": "code",
      "source": [
        "num1 = float(input(\"Ingrese el primer número: \"))\n",
        "num2 = float(input(\"Ingrese el segundo número: \"))"
      ],
      "metadata": {
        "colab": {
          "base_uri": "https://localhost:8080/"
        },
        "id": "iKGlUyGpeXmZ",
        "outputId": "37462bf1-3dea-4672-d0a8-fc775f12e16f"
      },
      "execution_count": null,
      "outputs": [
        {
          "name": "stdout",
          "output_type": "stream",
          "text": [
            "Ingrese el primer número: 56\n",
            "Ingrese el segundo número: 45\n"
          ]
        }
      ]
    },
    {
      "cell_type": "markdown",
      "source": [
        "## Mostrar las operaciones disponibles"
      ],
      "metadata": {
        "id": "UnzSTd46egQS"
      }
    },
    {
      "cell_type": "code",
      "source": [
        "print(\"\\nOperaciones disponibles:\")\n",
        "print(\"1. Suma\")\n",
        "print(\"2. Resta\")\n",
        "print(\"3. Multiplicación\")\n",
        "print(\"4. División\")\n",
        "\n",
        "opcion = input(\"\\nElija una operación (1-4): \")"
      ],
      "metadata": {
        "colab": {
          "base_uri": "https://localhost:8080/"
        },
        "id": "ywILCO8ZekpI",
        "outputId": "f759ad61-9a6d-4215-e99c-5d0af2c20002"
      },
      "execution_count": null,
      "outputs": [
        {
          "name": "stdout",
          "output_type": "stream",
          "text": [
            "\n",
            "Operaciones disponibles:\n",
            "1. Suma\n",
            "2. Resta\n",
            "3. Multiplicación\n",
            "4. División\n",
            "\n",
            "Elija una operación (1-4): 1\n"
          ]
        }
      ]
    },
    {
      "cell_type": "markdown",
      "source": [
        "## Validar la opción seleccionada"
      ],
      "metadata": {
        "id": "KWagM3OSen_c"
      }
    },
    {
      "cell_type": "code",
      "source": [
        "if opcion not in [\"1\", \"2\", \"3\", \"4\"]:\n",
        "    print(\"Opción Inválida. Debe ser: 1, 2, 3 o 4.\")\n",
        "    exit()\n",
        "else:\n",
        "    print(f\"\\nOperación seleccionada: {opcion}\")"
      ],
      "metadata": {
        "id": "h1d46Peletw7",
        "colab": {
          "base_uri": "https://localhost:8080/"
        },
        "outputId": "f2d6e9c6-6a7e-49ce-a5e5-1e398010bf15"
      },
      "execution_count": null,
      "outputs": [
        {
          "output_type": "stream",
          "name": "stdout",
          "text": [
            "\n",
            "Operación seleccionada: 1\n"
          ]
        }
      ]
    },
    {
      "cell_type": "markdown",
      "source": [
        "## Realizar la operación seleccionada"
      ],
      "metadata": {
        "id": "oLVQA2iFexLX"
      }
    },
    {
      "cell_type": "code",
      "source": [
        "if opcion == \"1\":\n",
        "    resultado = num1 + num2\n",
        "elif opcion == \"2\":\n",
        "    resultado = num1 - num2\n",
        "elif opcion == \"3\":\n",
        "    resultado = num1 * num2\n",
        "elif opcion == \"4\":\n",
        "    if num2 == 0:\n",
        "        print(\"Error: No se puede dividir por cero.\")\n",
        "        exit()\n",
        "    resultado = num1/num2\n",
        "\n",
        "print(resultado)"
      ],
      "metadata": {
        "id": "Ku9CltOPe1Ql",
        "colab": {
          "base_uri": "https://localhost:8080/"
        },
        "outputId": "cdaee05b-c1a2-4c31-8d1f-1ff1140539a8"
      },
      "execution_count": null,
      "outputs": [
        {
          "output_type": "stream",
          "name": "stdout",
          "text": [
            "101.0\n"
          ]
        }
      ]
    },
    {
      "cell_type": "markdown",
      "source": [
        "## Determinar características del resultado"
      ],
      "metadata": {
        "id": "x0Q6Zjf-e5HX"
      }
    },
    {
      "cell_type": "code",
      "source": [
        "signo = \"\"\n",
        "if resultado > 0:\n",
        "    signo = \"positivo\"\n",
        "elif resultado < 0:\n",
        "    signo = \"negativo\"\n",
        "else:\n",
        "    signo = \"cero\"\n",
        "\n",
        "es_entero = resultado.is_integer()\n",
        "tipo = \"entero\" if es_entero else \"decimal\"\n",
        "\n",
        "print(tipo)"
      ],
      "metadata": {
        "id": "lCH_anmHe--T",
        "colab": {
          "base_uri": "https://localhost:8080/"
        },
        "outputId": "b072bba1-d575-42a8-8ddd-dae8c6cc9d66"
      },
      "execution_count": null,
      "outputs": [
        {
          "output_type": "stream",
          "name": "stdout",
          "text": [
            "entero\n"
          ]
        }
      ]
    },
    {
      "cell_type": "markdown",
      "source": [
        "## Preparar información adicional para enteros"
      ],
      "metadata": {
        "id": "BuHOZbvyfCA2"
      }
    },
    {
      "cell_type": "code",
      "source": [
        "paridad = \"\"\n",
        "if es_entero:\n",
        "    num_entero = int(resultado)\n",
        "    paridad = \"par\" if num_entero % 2 == 0 else \"impar\"\n",
        "\n",
        "print(paridad)"
      ],
      "metadata": {
        "id": "xDsgD2jbfGKD",
        "colab": {
          "base_uri": "https://localhost:8080/"
        },
        "outputId": "bc0d71b6-bfc7-4466-bb14-908244199f30"
      },
      "execution_count": null,
      "outputs": [
        {
          "output_type": "stream",
          "name": "stdout",
          "text": [
            "impar\n"
          ]
        }
      ]
    },
    {
      "cell_type": "markdown",
      "source": [
        "## Formatear salida del resultado"
      ],
      "metadata": {
        "id": "HgyH0gJ2fI_y"
      }
    },
    {
      "cell_type": "code",
      "source": [
        "resultado_mostrar = int(resultado) if es_entero else resultado\n",
        "\n",
        "print(resultado_mostrar)"
      ],
      "metadata": {
        "id": "hkiBb_E2fNNC",
        "colab": {
          "base_uri": "https://localhost:8080/"
        },
        "outputId": "861c0416-d49c-4d3f-dc8f-64c5f6a7e9ad"
      },
      "execution_count": null,
      "outputs": [
        {
          "output_type": "stream",
          "name": "stdout",
          "text": [
            "101\n"
          ]
        }
      ]
    },
    {
      "cell_type": "markdown",
      "source": [
        "## Construir el mensaje final"
      ],
      "metadata": {
        "id": "PrATKeoGfQIK"
      }
    },
    {
      "cell_type": "code",
      "source": [
        "mensaje = f\"\\nEl resultado es: {resultado_mostrar}\"\n",
        "mensaje += f\"\\nEs un número {signo}, {tipo}\"\n",
        "if es_entero:\n",
        "    mensaje += f\" y {paridad}.\"\n",
        "else:\n",
        "    mensaje += \".\"\n",
        "\n",
        "print(mensaje)"
      ],
      "metadata": {
        "colab": {
          "base_uri": "https://localhost:8080/"
        },
        "id": "c4r-V7YrfUDR",
        "outputId": "7686e828-ac30-4463-dce4-83df178f532a"
      },
      "execution_count": null,
      "outputs": [
        {
          "output_type": "stream",
          "name": "stdout",
          "text": [
            "\n",
            "El resultado es: 101\n",
            "Es un número positivo, entero y impar.\n"
          ]
        }
      ]
    },
    {
      "cell_type": "code",
      "source": [],
      "metadata": {
        "id": "YLJJNq34inQy"
      },
      "execution_count": null,
      "outputs": []
    }
  ]
}